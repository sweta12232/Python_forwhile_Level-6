{
 "cells": [
  {
   "cell_type": "markdown",
   "id": "ae57b3bf",
   "metadata": {},
   "source": [
    "# FOR WHILE LOOP IN PYTHON"
   ]
  },
  {
   "cell_type": "markdown",
   "id": "51338d25",
   "metadata": {},
   "source": [
    " Two main command of loop are:\n",
    "1. **while loops** \n",
    "2. **for loops**\n"
   ]
  },
  {
   "cell_type": "markdown",
   "id": "e332bb5e",
   "metadata": {},
   "source": [
    "# while loop "
   ]
  },
  {
   "cell_type": "markdown",
   "id": "7700dc3f",
   "metadata": {},
   "source": [
    "While loop is used for we can execute a set of statements as long as a condition is true."
   ]
  },
  {
   "cell_type": "code",
   "execution_count": null,
   "id": "0c69f840",
   "metadata": {},
   "outputs": [],
   "source": [
    "x = 1\n",
    "while x<=10:\n",
    "    print(x)\n",
    "    x += 1\n",
    "    "
   ]
  },
  {
   "cell_type": "code",
   "execution_count": null,
   "id": "beacb2fd-a91b-4227-855e-6e6d95415a75",
   "metadata": {},
   "outputs": [],
   "source": [
    "num = 1\n",
    "while num < 11:\n",
    "  print(num)\n",
    "  if num == 3:\n",
    "    break\n",
    "  num += 1"
   ]
  },
  {
   "cell_type": "code",
   "execution_count": null,
   "id": "50312c0d-dbd7-4739-9ac6-247d8bd02bcd",
   "metadata": {},
   "outputs": [],
   "source": [
    "i = 0\n",
    "while i < 6:\n",
    "  i += 1\n",
    "  if i == 3:\n",
    "    continue\n",
    "  print(i)"
   ]
  },
  {
   "cell_type": "code",
   "execution_count": null,
   "id": "508ab5a5-f015-43f9-a67e-b8b04a6ca0c7",
   "metadata": {},
   "outputs": [],
   "source": [
    "i = 1\n",
    "print(\"Printing number from 20:\")\n",
    "while i < 20:\n",
    "  print(i)\n",
    "  i += 1\n",
    "else:\n",
    "  print(\"Now i is more than 20\")\n"
   ]
  },
  {
   "cell_type": "code",
   "execution_count": null,
   "id": "057dec8d-3423-4974-8238-f6a53c87dca1",
   "metadata": {},
   "outputs": [],
   "source": [
    "B = {1, 2, 3, 4}\n",
    "B_list = list(B)\n",
    "index = 0\n",
    "while index < len(B_list):\n",
    "    print(B_list[index])\n",
    "    index += 1"
   ]
  },
  {
   "cell_type": "code",
   "execution_count": null,
   "id": "74507b6a-4ce5-4f69-80bb-df7937ab1765",
   "metadata": {},
   "outputs": [],
   "source": [
    "if __name__ == '__main__':\n",
    "    n = int(input())\n",
    "    i = n\n",
    "    while i >= 1:\n",
    "        print(i)\n",
    "        i -= 1"
   ]
  },
  {
   "cell_type": "markdown",
   "id": "12da8cf5",
   "metadata": {},
   "source": [
    "# for loop"
   ]
  },
  {
   "cell_type": "markdown",
   "id": "ad5c24bb",
   "metadata": {},
   "source": [
    "1. A for loop is used for iterating over a sequence (that is either a list, a tuple, a dictionary, a set, or a string).\n",
    "\n"
   ]
  },
  {
   "cell_type": "markdown",
   "id": "0c06a409",
   "metadata": {},
   "source": [
    "2. This is less like the for keyword in other programming languages, and works more like an iterator method as found in other object-orientated programming languages.\n",
    "\n"
   ]
  },
  {
   "cell_type": "markdown",
   "id": "11eaf5a6",
   "metadata": {},
   "source": [
    "3. With the for loop we can execute a set of statements, once for each item in a list, tuple, set etc."
   ]
  },
  {
   "cell_type": "code",
   "execution_count": null,
   "id": "e0be7620",
   "metadata": {},
   "outputs": [],
   "source": [
    "for i in range(10):\n",
    "    print(i)\n",
    "    i +=1 "
   ]
  },
  {
   "cell_type": "code",
   "execution_count": null,
   "id": "f9e26f69-4ac9-4b11-a23b-6ef3b679d784",
   "metadata": {},
   "outputs": [],
   "source": [
    "num = int(input(\"Enter the number:\"))\n",
    "for i in range(1, 11):\n",
    "    print(f\"{num} X {i+1} = {num*i}\")\n",
    "    i +=1 "
   ]
  },
  {
   "cell_type": "code",
   "execution_count": null,
   "id": "9e397d97-4dde-43c3-9bdd-45132c802a44",
   "metadata": {},
   "outputs": [],
   "source": [
    "a = [1,2,3,4]\n",
    "for i in range(1,5,2): #range(start,end,increament):\n",
    "    print(i)"
   ]
  },
  {
   "cell_type": "markdown",
   "id": "76bf4399-cc4f-448f-b76a-e93871674df2",
   "metadata": {},
   "source": [
    "### continue\n",
    "The **continue** statement in Python is used to skip the rest of the code inside a loop for the current iteration, and then continue with the next iteration of the loop. It's a control statement that can be quite handy in various situations. "
   ]
  },
  {
   "cell_type": "code",
   "execution_count": 1,
   "id": "4eb99498-e5af-4923-af71-6852e26362c0",
   "metadata": {},
   "outputs": [
    {
     "name": "stdout",
     "output_type": "stream",
     "text": [
      "yellow\n",
      "red\n"
     ]
    }
   ],
   "source": [
    "colors = [\"yellow\", \"blue\", \"red\"]\n",
    "for i in colors:\n",
    "  if i == \"blue\":\n",
    "    continue\n",
    "  print(i)"
   ]
  },
  {
   "cell_type": "markdown",
   "id": "a359a0a3-5792-4e62-aee1-e1eaf9a0c9ff",
   "metadata": {},
   "source": [
    "### break\n",
    "The **break** statement in Python is used to exit a loop prematurely, regardless of whether the loop's condition is true or not. It can be used in both for loops and while loops. The use of break can be crucial in various situations to control the flow of loops efficiently."
   ]
  },
  {
   "cell_type": "code",
   "execution_count": 3,
   "id": "3726016b-aab3-4887-b915-43790358ebd9",
   "metadata": {},
   "outputs": [
    {
     "name": "stdout",
     "output_type": "stream",
     "text": [
      "yellow\n"
     ]
    }
   ],
   "source": [
    "colors = [\"yellow\", \"blue\", \"red\"]\n",
    "for i in colors:\n",
    "  if i == \"blue\":\n",
    "    break\n",
    "  print(i)"
   ]
  },
  {
   "cell_type": "markdown",
   "id": "76ecce9d-d4a2-4d6b-abba-c826f139f23f",
   "metadata": {},
   "source": [
    "### PASS\n",
    "The **pass**  statement in Python is a null operation — nothing happens when it executes."
   ]
  },
  {
   "cell_type": "markdown",
   "id": "f3e30bde-bd0a-43ea-80fa-6eaa67b47b90",
   "metadata": {},
   "source": [
    "When you're sketching out a new block of code (functions, classes, loops, etc.) and haven't yet decided what code will go into it, you can use pass as a placeholder. This allows you to run the rest of your code without errors."
   ]
  },
  {
   "cell_type": "code",
   "execution_count": 5,
   "id": "39c6ffbb-a4fd-47c3-bf64-dd0930cadf6f",
   "metadata": {},
   "outputs": [],
   "source": [
    "for x in [0, 1, 2]:\n",
    "  pass"
   ]
  },
  {
   "cell_type": "code",
   "execution_count": null,
   "id": "710dcddc-d3cb-416c-a5ee-9e35a2a7ef23",
   "metadata": {},
   "outputs": [],
   "source": []
  }
 ],
 "metadata": {
  "kernelspec": {
   "display_name": "Python 3 (ipykernel)",
   "language": "python",
   "name": "python3"
  },
  "language_info": {
   "codemirror_mode": {
    "name": "ipython",
    "version": 3
   },
   "file_extension": ".py",
   "mimetype": "text/x-python",
   "name": "python",
   "nbconvert_exporter": "python",
   "pygments_lexer": "ipython3",
   "version": "3.11.7"
  }
 },
 "nbformat": 4,
 "nbformat_minor": 5
}
